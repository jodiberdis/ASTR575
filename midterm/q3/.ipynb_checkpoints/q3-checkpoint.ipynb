{
 "cells": [
  {
   "cell_type": "markdown",
   "metadata": {},
   "source": [
    "3 a)"
   ]
  },
  {
   "cell_type": "code",
   "execution_count": 1,
   "metadata": {
    "collapsed": false
   },
   "outputs": [
    {
     "data": {
      "text/plain": [
       "9.5874010519682"
      ]
     },
     "execution_count": 1,
     "metadata": {},
     "output_type": "execute_result"
    }
   ],
   "source": [
    "x = 0.\n",
    "\n",
    "def func(x):\n",
    "    fx = (x**3. + x**(2./3.))\n",
    "    return fx\n",
    "\n",
    "func(2.)     # testing that code works\n",
    "\n",
    "# Tested code by inputting different values for x and making sure they returned the\n",
    "# correctly calculated value"
   ]
  },
  {
   "cell_type": "markdown",
   "metadata": {},
   "source": [
    "3 b)"
   ]
  },
  {
   "cell_type": "code",
   "execution_count": 2,
   "metadata": {
    "collapsed": false
   },
   "outputs": [
    {
     "data": {
      "text/plain": [
       "609.7078585991534"
      ]
     },
     "execution_count": 2,
     "metadata": {},
     "output_type": "execute_result"
    }
   ],
   "source": [
    "def integral(a, b):\n",
    "    return (((b-a)/6.) * ((func(a) + 4.*func((a+b)/2.)) + func(b)))\n",
    "    \n",
    "integral(2., 7.)     # testing that code works"
   ]
  },
  {
   "cell_type": "markdown",
   "metadata": {},
   "source": [
    "3 c)"
   ]
  },
  {
   "cell_type": "code",
   "execution_count": 3,
   "metadata": {
    "collapsed": false
   },
   "outputs": [
    {
     "data": {
      "text/plain": [
       "2527.2294329774404"
      ]
     },
     "execution_count": 3,
     "metadata": {},
     "output_type": "execute_result"
    }
   ],
   "source": [
    "integral(0., 10.)"
   ]
  },
  {
   "cell_type": "markdown",
   "metadata": {},
   "source": [
    "Numerical result is: 2527.2294329774404"
   ]
  },
  {
   "cell_type": "markdown",
   "metadata": {},
   "source": [
    "3 d)"
   ]
  },
  {
   "cell_type": "code",
   "execution_count": 4,
   "metadata": {
    "collapsed": false
   },
   "outputs": [
    {
     "data": {
      "text/plain": [
       "2546.415888336128"
      ]
     },
     "execution_count": 4,
     "metadata": {},
     "output_type": "execute_result"
    }
   ],
   "source": [
    "def anintegral(a, b):\n",
    "    x = a\n",
    "    intfxa = (((x**4.)/4) + ((5/3)*x**(5./3.)))\n",
    "    x = b\n",
    "    intfxb = (((x**4.)/4) + ((5/3)*x**(5./3.)))\n",
    "    # I know there is a more efficient way of writing that, but I'm short on time.\n",
    "    return intfxb - intfxa\n",
    "    \n",
    "anintegral(0.,10.)"
   ]
  },
  {
   "cell_type": "markdown",
   "metadata": {},
   "source": [
    "Analytic result is: 2546.415888336128"
   ]
  },
  {
   "cell_type": "code",
   "execution_count": 5,
   "metadata": {
    "collapsed": false
   },
   "outputs": [
    {
     "name": "stdout",
     "output_type": "stream",
     "text": [
      "Fractional error:  0.75346904041\n"
     ]
    }
   ],
   "source": [
    "fracerr = 100*(anintegral(0.,10.) - integral(0., 10.))/anintegral(0.,10.)\n",
    "print 'Fractional error: ', fracerr"
   ]
  },
  {
   "cell_type": "markdown",
   "metadata": {},
   "source": [
    "0.75 percent is less than 1% error -- pretty good!"
   ]
  },
  {
   "cell_type": "code",
   "execution_count": null,
   "metadata": {
    "collapsed": false
   },
   "outputs": [],
   "source": [
    "def integsplit(n):\n",
    "    i=1.\n",
    "    b=0. \n",
    "    totint = 0.\n",
    "    \n",
    "    while b <= 10.:\n",
    "        if i <= n:\n",
    "            b = i*(10./n)\n",
    "            a = i*(10./n) - (i-1.)*(10./n)\n",
    "            anintegral(a,b)\n",
    "            totint = totint + anintegral(a,b)\n",
    "            i = i+1.\n",
    "    print 'totint = ', totint\n",
    "    \n",
    "integsplit(3.)"
   ]
  },
  {
   "cell_type": "markdown",
   "metadata": {},
   "source": []
  }
 ],
 "metadata": {
  "kernelspec": {
   "display_name": "Python 2",
   "language": "python",
   "name": "python2"
  },
  "language_info": {
   "codemirror_mode": {
    "name": "ipython",
    "version": 2
   },
   "file_extension": ".py",
   "mimetype": "text/x-python",
   "name": "python",
   "nbconvert_exporter": "python",
   "pygments_lexer": "ipython2",
   "version": "2.7.10"
  }
 },
 "nbformat": 4,
 "nbformat_minor": 0
}
