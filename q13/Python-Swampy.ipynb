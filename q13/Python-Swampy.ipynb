{
 "cells": [
  {
   "cell_type": "markdown",
   "metadata": {},
   "source": [
    "4.3 Exercises"
   ]
  },
  {
   "cell_type": "markdown",
   "metadata": {},
   "source": [
    "1) Write a function called square that takes a parameter named t, which is a turtle. It should use the turtle to draw a square.\n",
    "\n",
    "Write a function call that passes bob as an argument to square, and then run the program again."
   ]
  },
  {
   "cell_type": "code",
   "execution_count": 10,
   "metadata": {
    "collapsed": false
   },
   "outputs": [
    {
     "name": "stdout",
     "output_type": "stream",
     "text": [
      "<swampy.TurtleWorld.Turtle object at 0x7fd61003b710>\n"
     ]
    }
   ],
   "source": [
    "from swampy.TurtleWorld import *\n",
    "\n",
    "world = TurtleWorld()\n",
    "bob = Turtle()\n",
    "print bob\n",
    "\n",
    "#fd(bob, 100)\n",
    "#lt(bob)\n",
    "#fd(bob, 100)\n",
    "#lt(bob)\n",
    "#fd(bob, 100)\n",
    "#lt(bob)\n",
    "#fd(bob, 100)\n",
    "\n",
    "#for i in range(4):\n",
    "#    fd(bob, 100)\n",
    "#    lt(bob)\n",
    "    \n",
    "#for i in range(4):\n",
    "#    print 'Hello!'\n",
    "\n",
    "def square(bob):\n",
    "    for i in range(4):\n",
    "        fd(bob, 100)\n",
    "        lt(bob)\n",
    "        \n",
    "square(bob)\n",
    "\n",
    "wait_for_user()"
   ]
  },
  {
   "cell_type": "markdown",
   "metadata": {},
   "source": [
    "2) Add another parameter, named length, to square. Modify the body so length of the sides is length, and then modify the function call to provide a second argument. Run the program again. Test your program with a range of values for length."
   ]
  },
  {
   "cell_type": "code",
   "execution_count": 35,
   "metadata": {
    "collapsed": false
   },
   "outputs": [
    {
     "name": "stdout",
     "output_type": "stream",
     "text": [
      "<swampy.TurtleWorld.Turtle object at 0x7fd601a79550>\n"
     ]
    }
   ],
   "source": [
    "from swampy.TurtleWorld import *\n",
    "\n",
    "world = TurtleWorld()\n",
    "bob = Turtle()\n",
    "print bob\n",
    "\n",
    "#fd(bob, 100)\n",
    "#lt(bob)\n",
    "#fd(bob, 100)\n",
    "#lt(bob)\n",
    "#fd(bob, 100)\n",
    "#lt(bob)\n",
    "#fd(bob, 100)\n",
    "\n",
    "#for i in range(4):\n",
    "#    fd(bob, 100)\n",
    "#    lt(bob)\n",
    "    \n",
    "#for i in range(4):\n",
    "#    print 'Hello!'\n",
    "\n",
    "def square(bob, length):\n",
    "    for i in range(4):\n",
    "        fd(bob, length)\n",
    "        lt(bob)\n",
    "        \n",
    "square(bob, 20)\n",
    "\n",
    "wait_for_user()"
   ]
  },
  {
   "cell_type": "markdown",
   "metadata": {},
   "source": [
    "3) The functions lt and rt make 90-degree turns by default, but you can provide a second argument that specifies the number of degrees. For example, lt(bob, 45) turns bob 45 degrees to the left.\n",
    "\n",
    "Make a copy of square and change the name to polygon. Add another parameter named n and modify the body so it draws an n-sided regular polygon. Hint: The exterior angles of an n-sided regular polygon are 360/n degrees."
   ]
  },
  {
   "cell_type": "code",
   "execution_count": 28,
   "metadata": {
    "collapsed": false
   },
   "outputs": [
    {
     "name": "stdout",
     "output_type": "stream",
     "text": [
      "<swampy.TurtleWorld.Turtle object at 0x7fd61007d610>\n"
     ]
    }
   ],
   "source": [
    "from swampy.TurtleWorld import *\n",
    "\n",
    "world = TurtleWorld()\n",
    "bob = Turtle()\n",
    "print bob\n",
    "\n",
    "#def square(bob, length, degrees):\n",
    "#    for i in range(4):\n",
    "#        fd(bob, length)\n",
    "#        lt(bob, degrees)\n",
    "        \n",
    "#square(bob, 40, 60)\n",
    "\n",
    "def polygon(bob, length, n):\n",
    "    for i in range(n):\n",
    "        fd(bob, length)\n",
    "        degrees = 360/n\n",
    "        lt(bob, degrees)\n",
    "        \n",
    "polygon(bob, 40, 12)\n",
    "\n",
    "wait_for_user()"
   ]
  },
  {
   "cell_type": "markdown",
   "metadata": {},
   "source": [
    "4) Write a function called circle that takes a turtle, t, and radius, r, as parameters and that draws an approximate circle by invoking polygon with an appropriate length and number of sides. Test your function with a range of values of r.\n",
    "\n",
    "Hint: figure out the circumference of the circle and make sure that length * n = circumference."
   ]
  },
  {
   "cell_type": "code",
   "execution_count": 68,
   "metadata": {
    "collapsed": false
   },
   "outputs": [
    {
     "name": "stdout",
     "output_type": "stream",
     "text": [
      "<swampy.TurtleWorld.Turtle object at 0x7fd601ab4250>\n"
     ]
    }
   ],
   "source": [
    "from swampy.TurtleWorld import *\n",
    "\n",
    "world = TurtleWorld()\n",
    "t = Turtle()\n",
    "print t\n",
    "\n",
    "def polygon(t, length, n):\n",
    "    for i in range(n):\n",
    "        fd(t, length)\n",
    "        degrees = 360/n\n",
    "        lt(t, degrees)\n",
    "        \n",
    "        \n",
    "def circle(t, r):\n",
    "    import math\n",
    "    circ = 2*math.pi*r\n",
    "    length = 5\n",
    "    n = circ/length\n",
    "    intn = int(n)\n",
    "    polygon(t, 5, intn)\n",
    "        \n",
    "circle(t, 35)\n",
    "\n",
    "wait_for_user()"
   ]
  },
  {
   "cell_type": "markdown",
   "metadata": {},
   "source": [
    "Exercise 5: Make a more general version of circle called arc that takes an additional parameter angle, which determines what fraction of a circle to draw. angle is in units of degrees, so when angle=360, arc should draw a complete circle."
   ]
  },
  {
   "cell_type": "code",
   "execution_count": 69,
   "metadata": {
    "collapsed": false
   },
   "outputs": [
    {
     "name": "stdout",
     "output_type": "stream",
     "text": [
      "<swampy.TurtleWorld.Turtle object at 0x7fd601ab4c50>\n"
     ]
    }
   ],
   "source": [
    "from swampy.TurtleWorld import *\n",
    "\n",
    "world = TurtleWorld()\n",
    "t = Turtle()\n",
    "print t\n",
    "\n",
    "def polygon(t, length, n, angle):\n",
    "    for i in range(n):\n",
    "        fd(t, length)\n",
    "        degrees = angle/n\n",
    "        lt(t, degrees)\n",
    "        \n",
    "        \n",
    "def arc(t, r, angle):\n",
    "    import math\n",
    "    circ = 2*math.pi*r\n",
    "    length = 5\n",
    "    n = circ/length\n",
    "    intn = int(n)\n",
    "    arcfrac = angle/360\n",
    "    drawn = arcfrac*intn\n",
    "    polygon(t, 5, drawn, angle)\n",
    "        \n",
    "arc(t, 35, 90)\n",
    "\n",
    "wait_for_user()"
   ]
  },
  {
   "cell_type": "code",
   "execution_count": null,
   "metadata": {
    "collapsed": true
   },
   "outputs": [],
   "source": []
  }
 ],
 "metadata": {
  "kernelspec": {
   "display_name": "Python 2",
   "language": "python",
   "name": "python2"
  },
  "language_info": {
   "codemirror_mode": {
    "name": "ipython",
    "version": 2
   },
   "file_extension": ".py",
   "mimetype": "text/x-python",
   "name": "python",
   "nbconvert_exporter": "python",
   "pygments_lexer": "ipython2",
   "version": "2.7.10"
  }
 },
 "nbformat": 4,
 "nbformat_minor": 0
}
