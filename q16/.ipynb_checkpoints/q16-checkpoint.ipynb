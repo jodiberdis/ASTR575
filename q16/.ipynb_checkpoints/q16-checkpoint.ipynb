{
 "cells": [
  {
   "cell_type": "markdown",
   "metadata": {},
   "source": [
    "Exercise 3  \n",
    "\n",
    "Fermat’s Last Theorem says that there are no positive integers a, b, and c such that\n",
    "a^n + b^n = c^n \n",
    "\n",
    "for any values of n greater than 2.\n",
    "\n",
    "1.) Write a function named check_fermat that takes four parameters—a, b, c and n—and that checks to see if Fermat’s theorem holds. If n is greater than 2 and it turns out to be true that\n",
    "a^n + b^n = c^n \n",
    "\n",
    "the program should print, “Holy smokes, Fermat was wrong!” Otherwise the program should print, “No, that doesn’t work.”"
   ]
  },
  {
   "cell_type": "code",
   "execution_count": 4,
   "metadata": {
    "collapsed": false
   },
   "outputs": [
    {
     "name": "stdout",
     "output_type": "stream",
     "text": [
      "No, that doesn't work.\n"
     ]
    }
   ],
   "source": [
    "def check_fermat(a, b, c, n):\n",
    "    if n > 2:\n",
    "        if c**n == a**n + b**n:\n",
    "            print \"Holy smokes, Fermat was wrong!\"\n",
    "        else:\n",
    "            print \"No, that doesn't work.\"\n",
    "    elif n <= 2:\n",
    "        print \"Hold up! Input a value of n that is greater than 2.\"\n",
    "            \n",
    "check_fermat(3, 7, 3, 9)"
   ]
  },
  {
   "cell_type": "markdown",
   "metadata": {},
   "source": [
    "2.) Write a function that prompts the user to input values for a, b, c and n, converts them to integers, and uses check_fermat to check whether they violate Fermat’s theorem."
   ]
  },
  {
   "cell_type": "code",
   "execution_count": 10,
   "metadata": {
    "collapsed": false
   },
   "outputs": [
    {
     "name": "stdout",
     "output_type": "stream",
     "text": [
      "No, that doesn't work.\n"
     ]
    }
   ],
   "source": [
    "def check_int_fermat(a, b, c, n):\n",
    "    inta = int(a)\n",
    "    intb = int(b)\n",
    "    intc = int(c)\n",
    "    intn = int(n)\n",
    "    check_fermat(inta, intb, intc, intn)\n",
    "    \n",
    "check_int_fermat(5.6, 4.2, 9.9, 3.0)"
   ]
  },
  {
   "cell_type": "markdown",
   "metadata": {},
   "source": [
    "Read the following function and see if you can figure out what it does. Then run it (see the examples in Chapter 4).\n",
    "Produces some kind of fractal design!"
   ]
  },
  {
   "cell_type": "code",
   "execution_count": 6,
   "metadata": {
    "collapsed": false
   },
   "outputs": [
    {
     "name": "stdout",
     "output_type": "stream",
     "text": [
      "<swampy.TurtleWorld.Turtle object at 0x7f65df988d90>\n"
     ]
    }
   ],
   "source": [
    "from swampy.TurtleWorld import *\n",
    "\n",
    "world = TurtleWorld()\n",
    "t = Turtle()\n",
    "print t\n",
    "t.delay = 0.1\n",
    "def draw(t, length, n):\n",
    "    if n == 0:\n",
    "        return\n",
    "    angle = 50\n",
    "    fd(t, length*n)\n",
    "    lt(t, angle)\n",
    "    draw(t, length, n-1)\n",
    "    rt(t, 2*angle)\n",
    "    draw(t, length, n-1)\n",
    "    lt(t, angle)\n",
    "    bk(t, length*n)\n",
    "    \n",
    "draw(t, 8, 6)"
   ]
  },
  {
   "cell_type": "markdown",
   "metadata": {
    "collapsed": true
   },
   "source": [
    "Exercise 6  \n",
    "\n",
    "The Koch curve is a fractal that looks something like Figure 5.2. To draw a Koch curve with length x, all you have to do is\n",
    "\n",
    "Draw a Koch curve with length x/3.\n",
    "Turn left 60 degrees.\n",
    "Draw a Koch curve with length x/3.\n",
    "Turn right 120 degrees.\n",
    "Draw a Koch curve with length x/3.\n",
    "Turn left 60 degrees.\n",
    "Draw a Koch curve with length x/3.\n",
    "\n",
    "The exception is if x is less than 3: in that case, you can just draw a straight line with length x.\n",
    "\n",
    "Write a function called koch that takes a turtle and a length as parameters, and that uses the turtle to draw a Koch curve with the given length."
   ]
  },
  {
   "cell_type": "code",
   "execution_count": 14,
   "metadata": {
    "collapsed": false,
    "scrolled": true
   },
   "outputs": [
    {
     "name": "stdout",
     "output_type": "stream",
     "text": [
      "<swampy.TurtleWorld.Turtle object at 0x7f65dc12a290>\n"
     ]
    }
   ],
   "source": [
    "from swampy.TurtleWorld import *\n",
    "\n",
    "world = TurtleWorld()\n",
    "t = Turtle()\n",
    "print t\n",
    "t.delay = 0.2\n",
    "def koch(t, x):\n",
    "    if x < 3:\n",
    "        fd(t, x)\n",
    "        return\n",
    "    angle = 60\n",
    "    length = x/3\n",
    "    koch(t, length)\n",
    "    lt(t, angle)\n",
    "    koch(t, length)\n",
    "    rt(t, 2*angle)\n",
    "    koch(t, length)\n",
    "    lt(t, angle)\n",
    "    koch(t, length)\n",
    "    \n",
    "koch(t, 200)"
   ]
  },
  {
   "cell_type": "markdown",
   "metadata": {},
   "source": [
    "Write a function called snowflake that draws three Koch curves to make the outline of a snowflake."
   ]
  },
  {
   "cell_type": "code",
   "execution_count": 17,
   "metadata": {
    "collapsed": false
   },
   "outputs": [
    {
     "name": "stdout",
     "output_type": "stream",
     "text": [
      "<swampy.TurtleWorld.Turtle object at 0x7f65cdcec910>\n"
     ]
    }
   ],
   "source": [
    "from swampy.TurtleWorld import *\n",
    "\n",
    "world = TurtleWorld()\n",
    "t = Turtle()\n",
    "print t\n",
    "t.delay = 0.01\n",
    "\n",
    "def snowflake(t, x):\n",
    "    for i in range(3):\n",
    "        koch(t, x)\n",
    "        angle = 60\n",
    "        rt(t, 2*angle)\n",
    "    \n",
    "    \n",
    "snowflake(t, 400)"
   ]
  },
  {
   "cell_type": "code",
   "execution_count": null,
   "metadata": {
    "collapsed": true
   },
   "outputs": [],
   "source": []
  }
 ],
 "metadata": {
  "kernelspec": {
   "display_name": "Python 2",
   "language": "python",
   "name": "python2"
  },
  "language_info": {
   "codemirror_mode": {
    "name": "ipython",
    "version": 2
   },
   "file_extension": ".py",
   "mimetype": "text/x-python",
   "name": "python",
   "nbconvert_exporter": "python",
   "pygments_lexer": "ipython2",
   "version": "2.7.10"
  }
 },
 "nbformat": 4,
 "nbformat_minor": 0
}
