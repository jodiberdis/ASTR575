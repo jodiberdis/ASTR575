{
 "cells": [
  {
   "cell_type": "code",
   "execution_count": 1,
   "metadata": {
    "collapsed": false,
    "scrolled": true
   },
   "outputs": [
    {
     "name": "stdout",
     "output_type": "stream",
     "text": [
      "factorial of 1 is:  1\n",
      "variable:  1\n",
      "factorial of 3 is:  6\n",
      "variable:  3\n",
      "factorial of 7 is:  5040\n",
      "variable:  7\n",
      "factorial of 15 is:  1307674368000\n",
      "variable:  15\n",
      "variable:  31\n",
      "variable:  63\n",
      "sum of factorials:  1307674373047\n"
     ]
    }
   ],
   "source": [
    "var = 1\n",
    "maxvar = 100\n",
    "fac_maxvar = 20\n",
    "sumfac = 0\n",
    "\n",
    "def factorial(n):\n",
    "    if n == 0:\n",
    "        return 1\n",
    "    else:\n",
    "        recurse = factorial(n-1)\n",
    "        result = n * recurse\n",
    "        return result\n",
    "\n",
    "while var <= maxvar:\n",
    "    if var < fac_maxvar:\n",
    "        facvar = factorial(var)\n",
    "        print 'factorial of',var,'is: ',facvar\n",
    "        sumfac = sumfac+facvar\n",
    "    var = (2*var)+1\n",
    "    print 'variable: ',var\n",
    "    \n",
    "print 'sum of factorials: ',sumfac"
   ]
  },
  {
   "cell_type": "code",
   "execution_count": null,
   "metadata": {
    "collapsed": true
   },
   "outputs": [],
   "source": []
  }
 ],
 "metadata": {
  "kernelspec": {
   "display_name": "Python 2",
   "language": "python",
   "name": "python2"
  },
  "language_info": {
   "codemirror_mode": {
    "name": "ipython",
    "version": 2
   },
   "file_extension": ".py",
   "mimetype": "text/x-python",
   "name": "python",
   "nbconvert_exporter": "python",
   "pygments_lexer": "ipython2",
   "version": "2.7.10"
  }
 },
 "nbformat": 4,
 "nbformat_minor": 0
}
