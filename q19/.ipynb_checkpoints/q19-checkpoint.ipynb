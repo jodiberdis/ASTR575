{
 "cells": [
  {
   "cell_type": "markdown",
   "metadata": {},
   "source": [
    "Q19"
   ]
  },
  {
   "cell_type": "markdown",
   "metadata": {},
   "source": [
    "Chapter 7: Exercises 1, 2, 3"
   ]
  },
  {
   "cell_type": "markdown",
   "metadata": {},
   "source": [
    "Exercise 1  \n",
    "\n",
    "Rewrite the function print_n from Section 5.8 using iteration instead of recursion."
   ]
  },
  {
   "cell_type": "code",
   "execution_count": 8,
   "metadata": {
    "collapsed": false
   },
   "outputs": [
    {
     "name": "stdout",
     "output_type": "stream",
     "text": [
      "spam\n",
      "spam\n",
      "spam\n",
      "spam\n"
     ]
    }
   ],
   "source": [
    "def print_n(s, n):\n",
    "    while n > 0:\n",
    "        print s\n",
    "        n = n-1\n",
    "    \n",
    "print_n('spam', 4)"
   ]
  },
  {
   "cell_type": "markdown",
   "metadata": {},
   "source": [
    "Exercise 2  \n",
    "\n",
    "Encapsulate this loop in a function called square_root that takes a as a parameter, chooses a reasonable value of x, and returns an estimate of the square root of a."
   ]
  },
  {
   "cell_type": "code",
   "execution_count": 23,
   "metadata": {
    "collapsed": false
   },
   "outputs": [
    {
     "name": "stdout",
     "output_type": "stream",
     "text": [
      "8\n"
     ]
    }
   ],
   "source": [
    "def square_root(a):\n",
    "    x = 3\n",
    "    while True:\n",
    "        y = (x + a/x) / 2\n",
    "        if y == x:\n",
    "            break\n",
    "        x = y\n",
    "    print x\n",
    "\n",
    "square_root(64)"
   ]
  },
  {
   "cell_type": "markdown",
   "metadata": {},
   "source": [
    "Exercise 3  \n",
    "\n",
    "To test the square root algorithm in this chapter, you could compare it with math.sqrt. Write a function named test_square_root that prints a table like this:\n",
    "\n",
    "1.0 1.0           1.0           0.0\n",
    "\n",
    "2.0 1.41421356237 1.41421356237 2.22044604925e-16\n",
    "\n",
    "3.0 1.73205080757 1.73205080757 0.0\n",
    "\n",
    "4.0 2.0           2.0           0.0\n",
    "\n",
    "5.0 2.2360679775  2.2360679775  0.0\n",
    "\n",
    "6.0 2.44948974278 2.44948974278 0.0\n",
    "\n",
    "7.0 2.64575131106 2.64575131106 0.0\n",
    "\n",
    "8.0 2.82842712475 2.82842712475 4.4408920985e-16\n",
    "\n",
    "9.0 3.0           3.0           0.0\n",
    "\n",
    "The first column is a number, a; the second column is the square root of a computed with the function from Section 7.5; the third column is the square root computed by math.sqrt; the fourth column is the absolute value of the difference between the two estimates. "
   ]
  },
  {
   "cell_type": "code",
   "execution_count": 3,
   "metadata": {
    "collapsed": false
   },
   "outputs": [
    {
     "name": "stdout",
     "output_type": "stream",
     "text": [
      "1.0 1.0 1.0 0.0\n",
      "2.0 1.41421356237 1.41421356237 2.22044604925e-16\n",
      "3.0 1.73205080757 1.73205080757 0.0\n",
      "4.0 2.0 2.0 0.0\n",
      "5.0 2.2360679775 2.2360679775 0.0\n",
      "6.0 2.44948974278 2.44948974278 0.0\n",
      "7.0 2.64575131106 2.64575131106 0.0\n",
      "8.0 2.82842712475 2.82842712475 4.4408920985e-16\n",
      "9.0 3.0 3.0 0.0\n"
     ]
    }
   ],
   "source": [
    "import math\n",
    "\n",
    "def test_square_root(a):\n",
    "    x = 3.0\n",
    "    while a < 10:\n",
    "        while True:\n",
    "            y = (x + a/x) / 2\n",
    "            if y == x:\n",
    "                break\n",
    "            x = y\n",
    "        sqr = math.sqrt(a)\n",
    "        diff = abs(x - sqr)\n",
    "        print a, x, sqr, diff\n",
    "        a = a+1\n",
    "    \n",
    "test_square_root(1.0)"
   ]
  },
  {
   "cell_type": "code",
   "execution_count": null,
   "metadata": {
    "collapsed": true
   },
   "outputs": [],
   "source": []
  }
 ],
 "metadata": {
  "kernelspec": {
   "display_name": "Python 2",
   "language": "python",
   "name": "python2"
  },
  "language_info": {
   "codemirror_mode": {
    "name": "ipython",
    "version": 2
   },
   "file_extension": ".py",
   "mimetype": "text/x-python",
   "name": "python",
   "nbconvert_exporter": "python",
   "pygments_lexer": "ipython2",
   "version": "2.7.10"
  }
 },
 "nbformat": 4,
 "nbformat_minor": 0
}
