{
 "cells": [
  {
   "cell_type": "markdown",
   "metadata": {},
   "source": [
    "Homework Question 27\n",
    "\n",
    "Read Chapter 10 of Think Python and do exercises 1-5."
   ]
  },
  {
   "cell_type": "markdown",
   "metadata": {},
   "source": [
    "Exercise 1  \n",
    "\n",
    "Write a function called nested_sum that takes a nested list of integers and add up the elements from all of the nested lists."
   ]
  },
  {
   "cell_type": "code",
   "execution_count": 47,
   "metadata": {
    "collapsed": false
   },
   "outputs": [
    {
     "data": {
      "text/plain": [
       "42"
      ]
     },
     "execution_count": 47,
     "metadata": {},
     "output_type": "execute_result"
    }
   ],
   "source": [
    "def nested_sum(lis):\n",
    "    lisarr=[]\n",
    "    intarr=[]\n",
    "    for i in range(len(lis)):\n",
    "        if type(lis[i]) == list:\n",
    "            lisarr=lisarr+lis[i]\n",
    "   \n",
    "        if (type(lis[i]) == int):\n",
    "            intarr.append(lis[i])\n",
    "\n",
    "    return sum(lisarr+intarr)\n",
    "    \n",
    "    \n",
    "\n",
    "nested_sum([1,2,[6,7],4,5,[8,9,0]])"
   ]
  },
  {
   "cell_type": "markdown",
   "metadata": {
    "collapsed": true
   },
   "source": [
    "Exercise 2  \n",
    "\n",
    "Use capitalize_all to write a function named capitalize_nested that takes a nested list of strings and returns a new nested list with all strings capitalized."
   ]
  },
  {
   "cell_type": "code",
   "execution_count": 69,
   "metadata": {
    "collapsed": false
   },
   "outputs": [
    {
     "name": "stdout",
     "output_type": "stream",
     "text": [
      "['T', 'H', 'I', 'S', 'S', 'E', 'N', 'T', 'E', 'N', 'C', 'E', 'I', 'S', 'O', 'N', 'C', 'A', 'P', 'S', 'L', 'O', 'C', 'K']\n"
     ]
    }
   ],
   "source": [
    "def capitalize_all(t):\n",
    "    res = []\n",
    "    for s in t:\n",
    "        res.append(s.capitalize())\n",
    "    return res\n",
    "\n",
    "\n",
    "def capitalize_nested(newlis):\n",
    "    capit = []\n",
    "    for i in range(len(newlis)):\n",
    "            for j in newlis[i]:\n",
    "                capit = capit + capitalize_all(j)\n",
    "    print capitalize_all(capit)\n",
    "\n",
    "capitalize_nested([['This','sentence'],['is','on'], ['caps','lock']])"
   ]
  },
  {
   "cell_type": "markdown",
   "metadata": {},
   "source": [
    "Exercise 3  \n",
    "\n",
    "Write a function that takes a list of numbers and returns the cumulative sum; that is, a new list where the ith element is the sum of the first i+1 elements from the original list. For example, the cumulative sum of [1, 2, 3] is [1, 3, 6]. "
   ]
  },
  {
   "cell_type": "code",
   "execution_count": 110,
   "metadata": {
    "collapsed": false
   },
   "outputs": [
    {
     "data": {
      "text/plain": [
       "[1, 3, 6]"
      ]
     },
     "execution_count": 110,
     "metadata": {},
     "output_type": "execute_result"
    }
   ],
   "source": [
    "def cumulative(nums):\n",
    "    summing=[]\n",
    "    sums=[]\n",
    "    for i in range(len(nums)):\n",
    "        summing.append(nums[i])\n",
    "        sums.append(sum(summing))\n",
    "    return sums \n",
    "    \n",
    "    \n",
    "cumulative([1,2,3])"
   ]
  },
  {
   "cell_type": "markdown",
   "metadata": {},
   "source": [
    "Exercise 4\n",
    "\n",
    "Write a function called middle that takes a list and returns a new list that contains all but the first and last elements. So middle([1,2,3,4]) should return [2,3]."
   ]
  },
  {
   "cell_type": "code",
   "execution_count": 128,
   "metadata": {
    "collapsed": false
   },
   "outputs": [
    {
     "data": {
      "text/plain": [
       "[1, 7]"
      ]
     },
     "execution_count": 128,
     "metadata": {},
     "output_type": "execute_result"
    }
   ],
   "source": [
    "def middle(t):\n",
    "    length = len(t)\n",
    "    del t[1:(length-1)]\n",
    "    return t\n",
    "    \n",
    "middle([1,2,3,4,5,6,7])"
   ]
  },
  {
   "cell_type": "markdown",
   "metadata": {},
   "source": [
    "Exercise 5  \n",
    "\n",
    "Write a function called chop that takes a list, modifies it by removing the first and last elements, and returns None."
   ]
  },
  {
   "cell_type": "code",
   "execution_count": 133,
   "metadata": {
    "collapsed": false
   },
   "outputs": [],
   "source": [
    "def chop(t):\n",
    "    length = len(t)\n",
    "    del t[0]\n",
    "    del t[length-2]\n",
    "    return None\n",
    "    \n",
    "chop([1,2,3,4,5,6,7,8])"
   ]
  },
  {
   "cell_type": "code",
   "execution_count": null,
   "metadata": {
    "collapsed": true
   },
   "outputs": [],
   "source": []
  }
 ],
 "metadata": {
  "kernelspec": {
   "display_name": "Python 2",
   "language": "python",
   "name": "python2"
  },
  "language_info": {
   "codemirror_mode": {
    "name": "ipython",
    "version": 2
   },
   "file_extension": ".py",
   "mimetype": "text/x-python",
   "name": "python",
   "nbconvert_exporter": "python",
   "pygments_lexer": "ipython2",
   "version": "2.7.10"
  }
 },
 "nbformat": 4,
 "nbformat_minor": 0
}
