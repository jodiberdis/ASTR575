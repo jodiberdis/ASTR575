{
 "cells": [
  {
   "cell_type": "markdown",
   "metadata": {},
   "source": [
    "Homework Question 27\n",
    "\n",
    "Read Chapter 10 of Think Python and do exercises 1-5."
   ]
  },
  {
   "cell_type": "markdown",
   "metadata": {},
   "source": [
    "Exercise 1  \n",
    "\n",
    "Write a function called nested_sum that takes a nested list of integers and add up the elements from all of the nested lists."
   ]
  },
  {
   "cell_type": "code",
   "execution_count": 47,
   "metadata": {
    "collapsed": false
   },
   "outputs": [
    {
     "data": {
      "text/plain": [
       "42"
      ]
     },
     "execution_count": 47,
     "metadata": {},
     "output_type": "execute_result"
    }
   ],
   "source": [
    "def nested_sum(lis):\n",
    "    lisarr=[]\n",
    "    intarr=[]\n",
    "    for i in range(len(lis)):\n",
    "        if type(lis[i]) == list:\n",
    "            lisarr=lisarr+lis[i]\n",
    "   \n",
    "        if (type(lis[i]) == int):\n",
    "            intarr.append(lis[i])\n",
    "\n",
    "    return sum(lisarr+intarr)\n",
    "    \n",
    "    \n",
    "\n",
    "nested_sum([1,2,[6,7],4,5,[8,9,0]])"
   ]
  },
  {
   "cell_type": "markdown",
   "metadata": {
    "collapsed": true
   },
   "source": [
    "Exercise 2  \n",
    "\n",
    "Use capitalize_all to write a function named capitalize_nested that takes a nested list of strings and returns a new nested list with all strings capitalized."
   ]
  },
  {
   "cell_type": "code",
   "execution_count": 69,
   "metadata": {
    "collapsed": false
   },
   "outputs": [
    {
     "name": "stdout",
     "output_type": "stream",
     "text": [
      "['T', 'H', 'I', 'S', 'S', 'E', 'N', 'T', 'E', 'N', 'C', 'E', 'I', 'S', 'O', 'N', 'C', 'A', 'P', 'S', 'L', 'O', 'C', 'K']\n"
     ]
    }
   ],
   "source": [
    "def capitalize_all(t):\n",
    "    res = []\n",
    "    for s in t:\n",
    "        res.append(s.capitalize())\n",
    "    return res\n",
    "\n",
    "\n",
    "def capitalize_nested(newlis):\n",
    "    capit = []\n",
    "    for i in range(len(newlis)):\n",
    "            for j in newlis[i]:\n",
    "                capit = capit + capitalize_all(j)\n",
    "    print capitalize_all(capit)\n",
    "\n",
    "capitalize_nested([['This','sentence'],['is','on'], ['caps','lock']])"
   ]
  },
  {
   "cell_type": "markdown",
   "metadata": {},
   "source": [
    "Exercise 3  \n",
    "\n",
    "Write a function that takes a list of numbers and returns the cumulative sum; that is, a new list where the ith element is the sum of the first i+1 elements from the original list. For example, the cumulative sum of [1, 2, 3] is [1, 3, 6]. "
   ]
  },
  {
   "cell_type": "code",
   "execution_count": 91,
   "metadata": {
    "collapsed": false
   },
   "outputs": [
    {
     "name": "stdout",
     "output_type": "stream",
     "text": [
      "[1, 2, 3]\n",
      "[6, 6, 6]\n"
     ]
    }
   ],
   "source": [
    "def cumulative(nums):\n",
    "    print nums\n",
    "    summing=[]\n",
    "    for i in nums:\n",
    "        addone=i+1\n",
    "        for j in addone:\n",
    "            \n",
    "        summing.append(sum(nums))\n",
    "    print summing\n",
    "#        sumsum = sumsum.append(summing)\n",
    "    \n",
    "    \n",
    "    \n",
    "    \n",
    "cumulative([1,2,3])"
   ]
  },
  {
   "cell_type": "code",
   "execution_count": null,
   "metadata": {
    "collapsed": true
   },
   "outputs": [],
   "source": []
  }
 ],
 "metadata": {
  "kernelspec": {
   "display_name": "Python 2",
   "language": "python",
   "name": "python2"
  },
  "language_info": {
   "codemirror_mode": {
    "name": "ipython",
    "version": 2
   },
   "file_extension": ".py",
   "mimetype": "text/x-python",
   "name": "python",
   "nbconvert_exporter": "python",
   "pygments_lexer": "ipython2",
   "version": "2.7.10"
  }
 },
 "nbformat": 4,
 "nbformat_minor": 0
}
