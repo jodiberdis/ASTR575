{
 "cells": [
  {
   "cell_type": "markdown",
   "metadata": {},
   "source": [
    "Write a routine to convolve a vector of length 8192 pixels that consists of a series of delta functions spaced every 10 pixels, with a Gaussian with $ \\sigma$ = 5 pixels. Do the convolution in physical space, writing the convolution integral explicitly (i.e., don't use a canned convolution routine!) Then do it in Fourier space by taking the Fourier transform of the vector and the Gaussian, multiplying them, and then Fourier transforming back (canned routines OK!). Plot both results. "
   ]
  },
  {
   "cell_type": "code",
   "execution_count": 2,
   "metadata": {
    "collapsed": true
   },
   "outputs": [],
   "source": [
    "%matplotlib inline"
   ]
  },
  {
   "cell_type": "code",
   "execution_count": 12,
   "metadata": {
    "collapsed": false
   },
   "outputs": [
    {
     "name": "stdout",
     "output_type": "stream",
     "text": [
      "[   0    1    2 ..., 8189 8190 8191]\n",
      "[ 0.  0.  0. ...,  0.  0.  0.]\n",
      "[ 1.  0.  0. ...,  0.  1.  0.]\n"
     ]
    },
    {
     "data": {
      "image/png": "[encoded data removed]",
      "text/plain": [
       "<matplotlib.figure.Figure at 0x7fd54a448c90>"
      ]
     },
     "metadata": {},
     "output_type": "display_data"
    }
   ],
   "source": [
    "import numpy as np\n",
    "import matplotlib.pyplot as plt\n",
    "from pylab import *\n",
    "\n",
    "\n",
    "plt.clf()\n",
    "plt.cla()\n",
    "x=np.arange(8192)\n",
    "print x\n",
    "vect=np.zeros(len(x))\n",
    "print vect\n",
    "for i in range(len(x)):\n",
    "    if ((x[i]%10) == 0):\n",
    "        vect[i] = 1\n",
    "    else:\n",
    "        vect[i] = 0\n",
    "print vect\n",
    "\n",
    "plt.plot(x,vect)\n",
    "plt.xlim(0,100)\n",
    "plt.xlabel('X')\n",
    "plt.ylabel('Y')\n",
    "plt.show()"
   ]
  },
  {
   "cell_type": "code",
   "execution_count": null,
   "metadata": {
    "collapsed": true
   },
   "outputs": [],
   "source": []
  }
 ],
 "metadata": {
  "kernelspec": {
   "display_name": "Python 2",
   "language": "python",
   "name": "python2"
  },
  "language_info": {
   "codemirror_mode": {
    "name": "ipython",
    "version": 2
   },
   "file_extension": ".py",
   "mimetype": "text/x-python",
   "name": "python",
   "nbconvert_exporter": "python",
   "pygments_lexer": "ipython2",
   "version": "2.7.10"
  }
 },
 "nbformat": 4,
 "nbformat_minor": 0
}
